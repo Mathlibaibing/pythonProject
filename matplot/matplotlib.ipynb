{
 "cells": [
  {
   "cell_type": "code",
   "execution_count": null,
   "id": "4952d628",
   "metadata": {},
   "outputs": [],
   "source": [
    "# matplotlib\n",
    "\n",
    "\n"
   ]
  },
  {
   "cell_type": "code",
   "execution_count": 10,
   "id": "f1b9bb28",
   "metadata": {},
   "outputs": [],
   "source": [
    "# 气温 [15, 13, 14.5, 17, 20, 25, 26, 26, 27, 22, 18, 15]\n",
    "from matplotlib import pyplot as plt\n",
    "x = range(2,26,2)\n",
    "y = [15, 13, 14.5, 17, 20, 25, 26, 26, 27, 22, 18, 15]\n",
    "print(y)\n",
    "plt.plot(x, y)\n",
    "plt.show()"
   ]
  }
 ],
 "metadata": {
  "kernelspec": {
   "display_name": "Python 3 (ipykernel)",
   "language": "python",
   "name": "python3"
  },
  "language_info": {
   "codemirror_mode": {
    "name": "ipython",
    "version": 3
   },
   "file_extension": ".py",
   "mimetype": "text/x-python",
   "name": "python",
   "nbconvert_exporter": "python",
   "pygments_lexer": "ipython3",
   "version": "3.9.7"
  }
 },
 "nbformat": 4,
 "nbformat_minor": 5
}
